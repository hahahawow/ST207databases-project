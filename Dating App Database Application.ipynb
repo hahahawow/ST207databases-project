{
 "cells": [
  {
   "cell_type": "code",
   "execution_count": 1,
   "metadata": {},
   "outputs": [
    {
     "name": "stdout",
     "output_type": "stream",
     "text": [
      "Requirement already satisfied: names in /Users/linyujia/anaconda3/lib/python3.11/site-packages (0.3.0)\r\n"
     ]
    }
   ],
   "source": [
    "import sqlite3\n",
    "!pip install names"
   ]
  },
  {
   "cell_type": "markdown",
   "metadata": {},
   "source": [
    "## Part 1：Table Creation and Triggers\n",
    "\n",
    "build connection to SQLite database, create tables based on the ER diagram, also create some triggers for the integrity purposes or business rules."
   ]
  },
  {
   "cell_type": "code",
   "execution_count": 2,
   "metadata": {},
   "outputs": [],
   "source": [
    "connection = sqlite3.connect(\"dating_app.db\")"
   ]
  },
  {
   "cell_type": "code",
   "execution_count": 3,
   "metadata": {},
   "outputs": [],
   "source": [
    "c = connection.cursor()"
   ]
  },
  {
   "cell_type": "code",
   "execution_count": 4,
   "metadata": {},
   "outputs": [
    {
     "data": {
      "text/plain": [
       "<sqlite3.Cursor at 0x10827a040>"
      ]
     },
     "execution_count": 4,
     "metadata": {},
     "output_type": "execute_result"
    }
   ],
   "source": [
    "#establishing tables from the ER diagram\n",
    "\n",
    "c.executescript('''           \n",
    "CREATE TABLE `Report` (\n",
    "  `report_id` INTEGER,\n",
    "  `reporting_id` INTEGER,\n",
    "  `reported_id` INTEGER,\n",
    "  `time` DATE,\n",
    "  `reason` VARCHAR,\n",
    "    PRIMARY KEY (`report_id`)\n",
    ");\n",
    "\n",
    "CREATE TABLE `Profile` (\n",
    "  `user_id` INTEGER,\n",
    "  `name` VARCHAR,\n",
    "  `sex` VARCHAR,\n",
    "  `age` INTEGER,\n",
    "  `status` VARCHAR,\n",
    "  `height` INTEGER,\n",
    "  `body_type` VARCHAR,\n",
    "  `diet` VARCHAR,\n",
    "  `drinks` VARCHAR,\n",
    "  `drugs` VARCHAR,\n",
    "  `smoke` VARCHAR,\n",
    "  `ethnicity` VARCHAR,\n",
    "  `education` VARCHAR,\n",
    "  `job` VARCHAR,\n",
    "  `location` VARCHAR,\n",
    "  `pet` VARCHAR,\n",
    "  `children` VARCHAR,\n",
    "  `religion` VARCHAR,\n",
    "  `languages` VARCHAR,\n",
    "  `relationship_type` VARCHAR,\n",
    "  `time` DATE,\n",
    "  PRIMARY KEY (`user_id`)\n",
    ");\n",
    "\n",
    "CREATE TABLE `Membership_order` (\n",
    "  `order_id` INTEGER PRIMARY KEY AUTOINCREMENT,\n",
    "  `user_id` INTEGER,\n",
    "  `order_date` DATE,\n",
    "  `membership_duration` INTEGER,\n",
    "  FOREIGN KEY (`user_id`) REFERENCES `Profile`(`user_id`)\n",
    ");\n",
    "\n",
    "CREATE TABLE `Preference` (\n",
    "  `user_id` INTEGER,\n",
    "  `sexual_orientation` VARCHAR,\n",
    "  `age` INTEGER,\n",
    "  `height` INTEGER,\n",
    "  `body_type` VARCHAR,\n",
    "  `diet` VARCHAR,\n",
    "  `drinks` VARCHAR,\n",
    "  `drugs` VARCHAR,\n",
    "  `smoke` VARCHAR,\n",
    "  `ethnicity` VARCHAR,\n",
    "  `education` VARCHAR,\n",
    "  `job` VARCHAR,\n",
    "  `location` VARCHAR,\n",
    "  `pet` VARCHAR,\n",
    "  `children` VARCHAR,\n",
    "  `religion` VARCHAR,\n",
    "  `languanges` VARCHAR,\n",
    "  `relationship_type` VARCHAR,\n",
    "      FOREIGN KEY (`user_id`) REFERENCES `Profile`(`user_id`)\n",
    ");\n",
    "\n",
    "CREATE TABLE `Swipe` (\n",
    "  `swiping_user_id` INTEGER,\n",
    "  `swiped_user_id` INTEGER,\n",
    "  `swipe_type` VARCHAR,\n",
    "  `time` DATE,\n",
    "  FOREIGN KEY (`swiping_user_id`) REFERENCES `Profile`(`user_id`),\n",
    "  FOREIGN KEY (`swiped_user_id`) REFERENCES `Profile`(`user_id`)\n",
    ");\n",
    "\n",
    "CREATE TABLE `Match` (\n",
    "  `match_id` INTEGER PRIMARY KEY AUTOINCREMENT,\n",
    "  `user_id_1` INTEGER,\n",
    "  `user_id_2` INTEGER,\n",
    "  `time` DATE,\n",
    "  FOREIGN KEY (`user_id_2`) REFERENCES `Profile`(`user_id`),\n",
    "  FOREIGN KEY (`user_id_1`) REFERENCES `Profile`(`user_id`)\n",
    ");\n",
    "\n",
    "CREATE TABLE `Message` (\n",
    "  `message_id` INTEGER PRIMARY KEY AUTOINCREMENT,\n",
    "  `match_id` INTEGER,\n",
    "  `sender_id` INTEGER,\n",
    "  `receiver_id` INTEGER,\n",
    "  `text` VARCHAR,\n",
    "  `time` DATE,\n",
    "  FOREIGN KEY (`match_id`) REFERENCES `Match`(`match_id`),\n",
    "  FOREIGN KEY (`sender_id`) REFERENCES `Profile`(`user_id`),\n",
    "  FOREIGN KEY (`receiver_id`) REFERENCES `Profile`(`user_id`)\n",
    ");\n",
    "\n",
    "CREATE TABLE `Block` (\n",
    "  `block_id` INTEGER PRIMARY KEY AUTOINCREMENT,\n",
    "  `blocking_id` INTEGER,\n",
    "  `blocked_id` INTEGER,\n",
    "  `time` DATE,\n",
    "  FOREIGN KEY (`blocking_id`) REFERENCES `Profile`(`user_id`),\n",
    "  FOREIGN KEY (`blocked_id`) REFERENCES `Profile`(`user_id`)\n",
    ");\n",
    "\n",
    "\n",
    "''')"
   ]
  },
  {
   "cell_type": "code",
   "execution_count": 5,
   "metadata": {},
   "outputs": [
    {
     "data": {
      "text/plain": [
       "<sqlite3.Cursor at 0x10827a040>"
      ]
     },
     "execution_count": 5,
     "metadata": {},
     "output_type": "execute_result"
    }
   ],
   "source": [
    "#The Match trigger explained in report section 2.4 Business rules, constraints, triggers\n",
    "\n",
    "#if the two users have swiped and liked each other\n",
    "#then they will become a match and the data will be populated into the Match table\n",
    "\n",
    "c.executescript('''CREATE TRIGGER matches AFTER INSERT ON Swipe\n",
    "WHEN ((SELECT time FROM Swipe \n",
    "WHERE swiping_user_id=NEW.swiped_user_id AND swiped_user_id=NEW.swiping_user_id AND swipe_type='right' AND NEW.swipe_type='right'\n",
    ")IS NOT NULL)\n",
    "BEGIN\n",
    "INSERT INTO Match(user_id_1,user_id_2,time) VALUES(NEW.swiped_user_id, NEW.swiping_user_id, NEW.time);\n",
    "END;\n",
    "''')"
   ]
  },
  {
   "cell_type": "code",
   "execution_count": 6,
   "metadata": {},
   "outputs": [
    {
     "data": {
      "text/plain": [
       "<sqlite3.Cursor at 0x10827a040>"
      ]
     },
     "execution_count": 6,
     "metadata": {},
     "output_type": "execute_result"
    }
   ],
   "source": [
    "#The Block trigger explained in report section 2.4 Business rules, constraints, triggers\n",
    "\n",
    "#The sender cannot send messages to receiver, if the receiver has blocked the sender\n",
    "\n",
    "c.executescript('''CREATE TRIGGER blocks BEFORE INSERT ON Message\n",
    "BEGIN\n",
    "    SELECT CASE\n",
    "    WHEN ((SELECT block_id FROM Block\n",
    "            WHERE blocking_id=NEW.receiver_id AND blocked_id=NEW.sender_id \n",
    "            ) IS NOT NULL)\n",
    "THEN RAISE(FAIL, 'ERROR: Message cannot be sent. The sender has been blocked by the receiver.')\n",
    "END;\n",
    "END;\n",
    "''')"
   ]
  },
  {
   "cell_type": "code",
   "execution_count": 7,
   "metadata": {},
   "outputs": [
    {
     "data": {
      "text/plain": [
       "<sqlite3.Cursor at 0x10827a040>"
      ]
     },
     "execution_count": 7,
     "metadata": {},
     "output_type": "execute_result"
    }
   ],
   "source": [
    "#This swipe_consistency trigger is not for the database design\n",
    "#It is used for the convenience of data population\n",
    "\n",
    "#because in the next part we use random.randint to insert into swiping and swiped user IDs, this may give repeated pairs\n",
    "#This trigger ensures the swipe is unique and one user will not swipe the same user again\n",
    "\n",
    "c.executescript('''CREATE TRIGGER swipe_consistency BEFORE INSERT ON Swipe\n",
    "WHEN ((SELECT time FROM Swipe \n",
    "WHERE swiping_user_id=NEW.swiping_user_id AND swiped_user_id=NEW.swiped_user_id AND time<>NEW.time\n",
    ")IS NOT NULL)\n",
    "BEGIN\n",
    "DELETE FROM Swipe \n",
    "WHERE swiping_user_id=NEW.swiping_user_id AND swiped_user_id=NEW.swiped_user_id;\n",
    "END;\n",
    "''')"
   ]
  },
  {
   "cell_type": "markdown",
   "metadata": {},
   "source": [
    "## Part 2: Data Population (including synthetic data generation)\n",
    "inserting data, reading the real-world dataset CSV from Kaggle, and generating synthetic data numpy random functions"
   ]
  },
  {
   "cell_type": "code",
   "execution_count": 8,
   "metadata": {},
   "outputs": [],
   "source": [
    "import pandas as pd\n",
    "import numpy as np\n",
    "import names\n",
    "from utils import *\n",
    "import datetime"
   ]
  },
  {
   "cell_type": "code",
   "execution_count": 9,
   "metadata": {},
   "outputs": [],
   "source": [
    "selected_columns = ['sex', 'age', 'status', 'height', 'body_type', 'diet', 'drinks',\n",
    "                    'drugs', 'smokes', 'ethnicity', 'education', 'job', 'location', 'pets',\n",
    "                    'offspring', 'religion', 'speaks', 'orientation']\n",
    "idx_to_column = dict(enumerate(selected_columns))\n",
    "column_to_idx = dict([(p, i) for (i, p) in idx_to_column.items()])\n",
    "profiles = pd.read_csv(\"okcupid_profiles.csv\")\n",
    "\n",
    "#The CSV file we downloaded from Kaggle is too large so we did not upload it to Github\n",
    "#But you can find it on\n",
    "#https://www.kaggle.com/datasets/andrewmvd/okcupid-profiles\n",
    "\n",
    "profiles = profiles[selected_columns]"
   ]
  },
  {
   "cell_type": "code",
   "execution_count": 10,
   "metadata": {},
   "outputs": [],
   "source": [
    "#Because the profile file is too big, with around 55000 data, we only use 150 of them\n",
    "#We are reading from the real Kaggle dataset\n",
    "\n",
    "selected_idx = set(np.random.randint(0, 55000, (150,)))\n",
    "selections = [np.array(profiles.iloc[idx]) for idx in selected_idx]\n",
    "selections = np.array([[i, names.get_full_name()] + list(s) for (i, s) in enumerate(selections)])"
   ]
  },
  {
   "cell_type": "code",
   "execution_count": 11,
   "metadata": {},
   "outputs": [],
   "source": [
    "persons = []\n",
    "preferences = []\n",
    "reports = []\n",
    "memberships = []\n",
    "swipes = []\n",
    "messages = []\n",
    "blocks = []"
   ]
  },
  {
   "cell_type": "code",
   "execution_count": 12,
   "metadata": {},
   "outputs": [],
   "source": [
    "#Generating synthetic data, preparation\n",
    "\n",
    "selected_columns = ['pid', 'name', 'sex', 'age', 'status', 'height', 'body_type', 'diet', 'drinks',\n",
    "                    'drugs', 'smokes', 'ethnicity', 'education', 'job', 'location', 'pets',\n",
    "                    'offspring', 'religion', 'speaks', 'orientation']\n",
    "for i, selection in enumerate(selections):\n",
    "    property = dict([(selected_columns[i], selection[i]) for i in range(len(selection))])\n",
    "    property['relationship_type'] = np.random.choice(relationship_types)\n",
    "    start = datetime.datetime(2010, 1, 1)\n",
    "    end = datetime.datetime(2012, 12, 1)\n",
    "    property['signup_time'] = str(random_date(start, end))\n",
    "\n",
    "    p = Person(property)\n",
    "    p.add_preference()\n",
    "    preferences.append(p.get_preferences()[-1])\n",
    "    if (i % 3 == 0):\n",
    "        p.add_membership()\n",
    "        memberships.append(p.get_memberships()[-1])\n",
    "\n",
    "    persons.append(p)\n",
    "    \n",
    "for i in range(300):\n",
    "    reporter = np.random.choice(persons)\n",
    "    reportee = np.random.choice(persons)\n",
    "    reason = np.random.choice(report_reasons)\n",
    "    reporter.add_report(i, reportee, reason)\n",
    "    reports.append(reporter.get_reports()[-1])\n",
    "\n",
    "for p in persons:\n",
    "    p.add_swipes(persons)\n",
    "    swipes += p.get_swipes()\n"
   ]
  },
  {
   "cell_type": "code",
   "execution_count": 13,
   "metadata": {},
   "outputs": [],
   "source": [
    "#Inserting real data for Profile\n",
    "\n",
    "for person in persons:\n",
    "  d = person.get_properties()\n",
    "  c.execute(\"INSERT INTO Profile VALUES (?, ?, ?, ?, ?, ?, ?, ?, ?, ?, ?, ?, ?, ?, ?, ?, ?, ?, ?, ?, ?)\", \n",
    "            (d['pid'], \n",
    "             d['name'],\n",
    "             d['sex'],\n",
    "             d['age'],\n",
    "             d['status'],\n",
    "             d['height'],\n",
    "             d['body_type'],\n",
    "             d['diet'],\n",
    "             d['drinks'],\n",
    "             d['drugs'],\n",
    "             d['smokes'],\n",
    "             d['ethnicity'],\n",
    "             d['education'],\n",
    "             d['job'],\n",
    "             d['location'],\n",
    "             d['pets'],\n",
    "             d['offspring'],\n",
    "             d['religion'],\n",
    "             d['speaks'],\n",
    "             d['relationship_type'],\n",
    "             d['signup_time'])\n",
    "  )\n",
    "\n",
    "  connection.commit() "
   ]
  },
  {
   "cell_type": "code",
   "execution_count": 14,
   "metadata": {},
   "outputs": [],
   "source": [
    "#Populating synthetic data of the Preference table\n",
    "\n",
    "for preference in preferences:\n",
    "  d = preference.get_preference()\n",
    "  c.execute(\"INSERT INTO Preference VALUES (?, ?, ?, ?, ?, ?, ?, ?, ?, ?, ?, ?, ?, ?, ?, ?, ?, ?)\", \n",
    "            (preference.get_owner().get_properties()['pid'], \n",
    "             d['sexual_orientation'],\n",
    "             d['age'],\n",
    "             d['height'],\n",
    "             d['body_type'],\n",
    "             d['diet'],\n",
    "             d['drinks'],\n",
    "             d['drugs'],\n",
    "             d['smoke'],\n",
    "             d['ethnicity'],\n",
    "             d['education'],\n",
    "             d['job'],\n",
    "             d['location'],\n",
    "             d['pet'],\n",
    "             d['children'],\n",
    "             d['religion'],\n",
    "             d['languages'],\n",
    "             d['relationship_type'])\n",
    "  )\n",
    "\n",
    "  connection.commit() "
   ]
  },
  {
   "cell_type": "code",
   "execution_count": 15,
   "metadata": {},
   "outputs": [],
   "source": [
    "#Populating synthetic data of the Report table\n",
    "\n",
    "for report in reports:\n",
    "  d = report\n",
    "  c.execute(\"INSERT INTO Report VALUES (?, ?, ?, ?, ?)\", \n",
    "            (d.rid, \n",
    "             d.owner.get_properties()['pid'],\n",
    "             d.reportee.get_properties()['pid'],\n",
    "             d.time,\n",
    "             d.reason)\n",
    "  )\n",
    "  connection.commit() "
   ]
  },
  {
   "cell_type": "code",
   "execution_count": 16,
   "metadata": {},
   "outputs": [],
   "source": [
    "#Populating synthetic data of the Membership_order table\n",
    "\n",
    "for membership in memberships:\n",
    "  d = membership\n",
    "  c.execute(\"INSERT INTO Membership_order(user_id,order_date,membership_duration) VALUES (?, ?, ?)\", \n",
    "            (d.uid,\n",
    "             d.order_date,\n",
    "             d.duration)\n",
    "  )\n",
    "\n",
    "  connection.commit() "
   ]
  },
  {
   "cell_type": "code",
   "execution_count": 17,
   "metadata": {},
   "outputs": [],
   "source": [
    "#Populating synthetic data of the Swipe table\n",
    "\n",
    "for swipe in swipes:\n",
    "  d = swipe\n",
    "  c.execute(\"INSERT INTO Swipe VALUES (?, ?, ?, ?)\", \n",
    "            (d.owner.get_properties()['pid'], \n",
    "             d.target.get_properties()['pid'],\n",
    "             d.direction,\n",
    "             d.time)\n",
    "  )\n",
    "  connection.commit() \n"
   ]
  },
  {
   "cell_type": "code",
   "execution_count": 18,
   "metadata": {},
   "outputs": [],
   "source": [
    "#Populating synthetic data of the Message table\n",
    "\n",
    "#According to the report section 2.1 Mini-world description, only the matched two can message each other\n",
    "#We try to mimic and follow this rule in synthetic data generation\n",
    "#We read from the existing match table and limit the two receivers/senders to the matched two users\n",
    "\n",
    "c.execute(\"SELECT * FROM Match\")\n",
    "result = c.fetchall()\n",
    "\n",
    "for match_id, uid1, uid2, start in result:\n",
    "    start = datetime.datetime.strptime(start, '%Y-%m-%d %H:%M:%S')\n",
    "    end = datetime.datetime(2023, 12, 31)\n",
    "    reps = np.random.randint(0, 15)\n",
    "    for i in range(reps):\n",
    "        rd = str(random_date(start, end))\n",
    "        text = np.random.choice(texts)\n",
    "        if i % 2 == 0:\n",
    "            message = Message(match_id, uid1, uid2, text, rd)\n",
    "        else:\n",
    "            message = Message(match_id, uid2, uid1, text, rd)\n",
    "        messages.append(message)  \n",
    "        \n",
    "for message in messages:\n",
    "  d = message\n",
    "  c.execute(\"INSERT INTO Message(match_id,sender_id,receiver_id,text,time) VALUES (?, ?, ?, ?, ?)\", \n",
    "            (d.ma_id,\n",
    "             d.u1_id,\n",
    "             d.u2_id,\n",
    "             d.text,\n",
    "             d.time)\n",
    "  )\n",
    "\n",
    "  connection.commit() "
   ]
  },
  {
   "cell_type": "code",
   "execution_count": 19,
   "metadata": {},
   "outputs": [],
   "source": [
    "#Populating synthetic data of the Block table\n",
    "\n",
    "#According to the report section 2.1 Mini-world description\n",
    "#only the matched two can message each other, and therefore block each other from sending messages\n",
    "#We try to mimic and follow this rule in synthetic data generation\n",
    "#We read from the existing match table and limit the blocking and blocked users to the matched two users\n",
    "\n",
    "for i, p in enumerate(result):\n",
    "    if i % 10 == 0:\n",
    "        match_id, uid1, uid2, start = p\n",
    "        start = datetime.datetime.strptime(start, '%Y-%m-%d %H:%M:%S')\n",
    "        end = datetime.datetime(2023, 12, 31)\n",
    "        rd = str(random_date(start, end))\n",
    "        block = Block(uid1, uid2, rd)\n",
    "        blocks.append(block) \n",
    "        \n",
    "for block in blocks:\n",
    "  d = block\n",
    "  c.execute(\"INSERT INTO Block(blocking_id,blocked_id,time) VALUES (?, ?, ?)\", \n",
    "            (d.bing_id,\n",
    "             d.bed_id,\n",
    "             d.time)\n",
    "  )\n",
    "\n",
    "  connection.commit() "
   ]
  }
 ],
 "metadata": {
  "kernelspec": {
   "display_name": "Python 3 (ipykernel)",
   "language": "python",
   "name": "python3"
  },
  "language_info": {
   "codemirror_mode": {
    "name": "ipython",
    "version": 3
   },
   "file_extension": ".py",
   "mimetype": "text/x-python",
   "name": "python",
   "nbconvert_exporter": "python",
   "pygments_lexer": "ipython3",
   "version": "3.11.5"
  }
 },
 "nbformat": 4,
 "nbformat_minor": 2
}
